{
 "cells": [
  {
   "cell_type": "markdown",
   "metadata": {},
   "source": [
    "### 栅格数据读写"
   ]
  },
  {
   "cell_type": "code",
   "execution_count": 1,
   "metadata": {},
   "outputs": [],
   "source": [
    "import rasterio\n"
   ]
  },
  {
   "cell_type": "code",
   "execution_count": 2,
   "metadata": {},
   "outputs": [],
   "source": [
    "path_data = 'data/data-base/region1_l8_20190504_wgs84.tif'\n"
   ]
  },
  {
   "cell_type": "code",
   "execution_count": 3,
   "metadata": {},
   "outputs": [
    {
     "data": {
      "text/plain": [
       "rasterio.io.DatasetReader"
      ]
     },
     "execution_count": 3,
     "metadata": {},
     "output_type": "execute_result"
    }
   ],
   "source": [
    "rsimg = rasterio.open(path_data)\n",
    "type(rsimg)\n"
   ]
  },
  {
   "cell_type": "code",
   "execution_count": 4,
   "metadata": {},
   "outputs": [
    {
     "name": "stdout",
     "output_type": "stream",
     "text": [
      "2636\n",
      "2155\n",
      "6\n"
     ]
    }
   ],
   "source": [
    "## 查看影像尺寸\n",
    "print(rsimg.width)\n",
    "print(rsimg.height)\n",
    "print(rsimg.count)"
   ]
  },
  {
   "cell_type": "code",
   "execution_count": 5,
   "metadata": {},
   "outputs": [
    {
     "name": "stdout",
     "output_type": "stream",
     "text": [
      "EPSG:4326\n"
     ]
    }
   ],
   "source": [
    "## 查看坐标系统\n",
    "print(rsimg.crs)\n"
   ]
  },
  {
   "cell_type": "code",
   "execution_count": 6,
   "metadata": {},
   "outputs": [
    {
     "data": {
      "text/plain": [
       "Affine(0.00026949458523585647, 0.0, 87.59975392008562,\n",
       "       0.0, -0.00026949458523585647, 33.29066611418535)"
      ]
     },
     "execution_count": 6,
     "metadata": {},
     "output_type": "execute_result"
    }
   ],
   "source": [
    "## 查看转换参数，含义为（x方向分辨率，x方向旋转参数，左上角x坐标，y方向旋转参数，y方向分辨率，左上角y坐标）\n",
    "rsimg.transform\n"
   ]
  },
  {
   "cell_type": "code",
   "execution_count": 7,
   "metadata": {},
   "outputs": [
    {
     "name": "stdout",
     "output_type": "stream",
     "text": [
      "BoundingBox(left=87.59975392008562, bottom=32.70990528300208, right=88.31014164676733, top=33.29066611418535)\n",
      "GTiff\n"
     ]
    }
   ],
   "source": [
    "print(rsimg.bounds)\n",
    "print(rsimg.driver)\n"
   ]
  },
  {
   "cell_type": "code",
   "execution_count": 8,
   "metadata": {},
   "outputs": [],
   "source": [
    "## 查看主要信息，包括尺寸、坐标系等\n",
    "# rsimg.meta\n"
   ]
  },
  {
   "cell_type": "code",
   "execution_count": 9,
   "metadata": {},
   "outputs": [
    {
     "data": {
      "text/plain": [
       "(2155, 2636)"
      ]
     },
     "execution_count": 9,
     "metadata": {},
     "output_type": "execute_result"
    }
   ],
   "source": [
    "## 提取波段\n",
    "band1 = rsimg.read(1)\n",
    "type(band1)\n",
    "band1.shape\n",
    "# bands = rsimg.read()\n",
    "# type(bands)\n",
    "# bands.shape\n"
   ]
  },
  {
   "cell_type": "code",
   "execution_count": 10,
   "metadata": {},
   "outputs": [
    {
     "data": {
      "text/plain": [
       "numpy.ndarray"
      ]
     },
     "execution_count": 10,
     "metadata": {},
     "output_type": "execute_result"
    }
   ],
   "source": [
    "type(band1)\n"
   ]
  },
  {
   "cell_type": "code",
   "execution_count": 11,
   "metadata": {},
   "outputs": [],
   "source": [
    "#### 栅格数据写出(写出某个波段)\n",
    "### 参数准备：driver, height, width, count, dtype, crs, transform\n",
    "driver = 'GTiff'\n",
    "height = 2155\n",
    "width = 2636\n",
    "count = 1\n",
    "crs = rsimg.crs\n",
    "dtype = band1.dtype\n",
    "transform = rsimg.transform\n"
   ]
  },
  {
   "cell_type": "code",
   "execution_count": 12,
   "metadata": {},
   "outputs": [],
   "source": [
    "path_band1 = 'data/data-section-3/band1.tif'\n",
    "with rasterio.open(path_band1, 'w', driver=driver, \n",
    "                   height=height,\n",
    "                   width=width,\n",
    "                   count=count,\n",
    "                   dtype=dtype,\n",
    "                   crs=crs,\n",
    "                   transform=transform) as dst:\n",
    "  dst.write(band1, 1)   ## the number 1 is the number of bands.\n",
    "\n",
    "\n"
   ]
  }
 ],
 "metadata": {
  "kernelspec": {
   "display_name": "myenv",
   "language": "python",
   "name": "python3"
  },
  "language_info": {
   "codemirror_mode": {
    "name": "ipython",
    "version": 3
   },
   "file_extension": ".py",
   "mimetype": "text/x-python",
   "name": "python",
   "nbconvert_exporter": "python",
   "pygments_lexer": "ipython3",
   "version": "3.11.11"
  }
 },
 "nbformat": 4,
 "nbformat_minor": 2
}
