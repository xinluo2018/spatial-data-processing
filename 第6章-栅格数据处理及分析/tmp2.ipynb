{
 "cells": [
  {
   "cell_type": "code",
   "execution_count": 7,
   "id": "406324ef",
   "metadata": {},
   "outputs": [],
   "source": [
    "import rasterio as rio\n",
    "from rasterio.warp import reproject, Resampling\n",
    "from rasterio.transform import Affine\n"
   ]
  },
  {
   "cell_type": "code",
   "execution_count": 8,
   "id": "28f11dfc",
   "metadata": {},
   "outputs": [],
   "source": [
    "path_rsimg = 'data/data-section-6/s2_10m_chenggong.tif'\n",
    "path_rsimg_resam = 'data/data-section-6/s2_10m_chenggong_resam.tif'\n"
   ]
  },
  {
   "cell_type": "code",
   "execution_count": 9,
   "id": "903bf24b",
   "metadata": {},
   "outputs": [],
   "source": [
    "x_resam_res = 21 \n",
    "y_resam_res = 22 \n"
   ]
  },
  {
   "cell_type": "code",
   "execution_count": 10,
   "id": "091bf515",
   "metadata": {},
   "outputs": [
    {
     "data": {
      "text/plain": [
       "CRS.from_wkt('PROJCS[\"WGS 84 / UTM zone 48N\",GEOGCS[\"WGS 84\",DATUM[\"WGS_1984\",SPHEROID[\"WGS 84\",6378137,298.257223563]],PRIMEM[\"Greenwich\",0],UNIT[\"degree\",0.0174532925199433,AUTHORITY[\"EPSG\",\"9122\"]]],PROJECTION[\"Transverse_Mercator\"],PARAMETER[\"latitude_of_origin\",0],PARAMETER[\"central_meridian\",105],PARAMETER[\"scale_factor\",0.9996],PARAMETER[\"false_easting\",500000],PARAMETER[\"false_northing\",0],UNIT[\"metre\",1,AUTHORITY[\"EPSG\",\"9001\"]],AXIS[\"Easting\",EAST],AXIS[\"Northing\",NORTH]]')"
      ]
     },
     "execution_count": 10,
     "metadata": {},
     "output_type": "execute_result"
    }
   ],
   "source": [
    "with rio.open(path_rsimg) as src:\n",
    "    data = src.read(1)\n",
    "    src_transform = src.transform\n",
    "    src_crs = src.crs\n",
    "    src_width = src.width\n",
    "    src_height = src.height\n",
    "\n",
    "src_transform\n",
    "# data.shape\n",
    "src_crs\n"
   ]
  },
  {
   "cell_type": "code",
   "execution_count": 11,
   "id": "03963ede",
   "metadata": {},
   "outputs": [
    {
     "name": "stdout",
     "output_type": "stream",
     "text": [
      "1426 -1465\n"
     ]
    }
   ],
   "source": [
    "## 1. 获取原影像空间分辨率\n",
    "x_res = src_transform.a\n",
    "y_res =src_transform.e\n",
    "\n",
    "## 2. 计算缩放比例\n",
    "x_scale = x_res/x_resam_res\n",
    "y_scale = y_res/y_resam_res\n",
    "\n",
    "## 3. 计算重采样影像尺寸\n",
    "dst_width = int(src_width*x_scale)\n",
    "dst_height = int(src_height*y_scale)\n",
    "print(dst_width, dst_height)\n",
    "\n",
    "## 4. 重采样影像仿射变换矩阵\n",
    "dst_transform = Affine(\n",
    "    a=x_resam_res,\n",
    "    b=0,\n",
    "    c=src_transform.c,\n",
    "    d=0,\n",
    "    e=-y_resam_res,\n",
    "    f=src_transform.f\n",
    ")\n",
    "\n"
   ]
  },
  {
   "cell_type": "code",
   "execution_count": 12,
   "id": "fe88a1c2",
   "metadata": {},
   "outputs": [],
   "source": [
    "### 重采样并写出\n",
    "\n",
    "with rio.open(\n",
    "    fp=path_rsimg_resam,\n",
    "    mode='w',\n",
    "    driver='GTiff',\n",
    "    height=-dst_height,\n",
    "    width=dst_width,\n",
    "    count=1,\n",
    "    dtype=data.dtype,\n",
    "    crs=src_crs,\n",
    "    transform=dst_transform) as dst:\n",
    "\n",
    "    reproject(\n",
    "        source=data,\n",
    "        src_transform=src_transform,\n",
    "        src_crs=src_crs,\n",
    "        destination=rio.band(dst, 1),\n",
    "        dst_transform=dst_transform,\n",
    "        dst_crs=src_crs,\n",
    "        resampling=Resampling.bilinear\n",
    "    )\n",
    "\n",
    "\n"
   ]
  },
  {
   "cell_type": "code",
   "execution_count": 13,
   "id": "6060bdbe",
   "metadata": {},
   "outputs": [
    {
     "data": {
      "text/plain": [
       "'GEOGCRS[\"WGS 84\",ENSEMBLE[\"World Geodetic System 1984 ensemble\",MEMBER[\"World Geodetic System 1984 (Transit)\"],MEMBER[\"World Geodetic System 1984 (G730)\"],MEMBER[\"World Geodetic System 1984 (G873)\"],MEMBER[\"World Geodetic System 1984 (G1150)\"],MEMBER[\"World Geodetic System 1984 (G1674)\"],MEMBER[\"World Geodetic System 1984 (G1762)\"],MEMBER[\"World Geodetic System 1984 (G2139)\"],MEMBER[\"World Geodetic System 1984 (G2296)\"],ELLIPSOID[\"WGS 84\",6378137,298.257223563,LENGTHUNIT[\"metre\",1]],ENSEMBLEACCURACY[2.0]],PRIMEM[\"Greenwich\",0,ANGLEUNIT[\"degree\",0.0174532925199433]],CS[ellipsoidal,2],AXIS[\"geodetic latitude (Lat)\",north,ORDER[1],ANGLEUNIT[\"degree\",0.0174532925199433]],AXIS[\"geodetic longitude (Lon)\",east,ORDER[2],ANGLEUNIT[\"degree\",0.0174532925199433]],USAGE[SCOPE[\"Horizontal component of 3D system.\"],AREA[\"World.\"],BBOX[-90,-180,90,180]],ID[\"EPSG\",4326]]'"
      ]
     },
     "execution_count": 13,
     "metadata": {},
     "output_type": "execute_result"
    }
   ],
   "source": [
    "from rasterio.warp import calculate_default_transform\n",
    "from pyproj import CRS\n",
    "\n",
    "path_rsimg_reproj = 'data/data-section-6/s2_10m_chenggong_reproj.tif'\n",
    "reproj_crs = CRS.from_epsg(4326)\n",
    "reproj_crs = reproj_crs.to_wkt()\n",
    "reproj_crs\n"
   ]
  },
  {
   "cell_type": "code",
   "execution_count": 14,
   "id": "7f06089c",
   "metadata": {},
   "outputs": [
    {
     "data": {
      "text/plain": [
       "Affine(10.0, 0.0, 268170.0,\n",
       "       0.0, -10.0, 2765450.0)"
      ]
     },
     "execution_count": 14,
     "metadata": {},
     "output_type": "execute_result"
    }
   ],
   "source": [
    "with rio.open(path_rsimg) as src:\n",
    "    data = src.read(1)\n",
    "    src_transform = src.transform\n",
    "    src_crs = src.crs\n",
    "    src_width = src.width\n",
    "    src_height = src.height\n",
    "    src_bounds = src.bounds\n",
    "\n",
    "src_transform\n",
    "# # data.shape\n",
    "# # src_cr\n",
    "# src_bounds\n"
   ]
  },
  {
   "cell_type": "code",
   "execution_count": 15,
   "id": "d0c4dfb5",
   "metadata": {},
   "outputs": [
    {
     "data": {
      "text/plain": [
       "Affine(9.45063521110585e-05, 0.0, 102.70324341425528,\n",
       "       0.0, -9.45063521110585e-05, 24.99108870425977)"
      ]
     },
     "execution_count": 15,
     "metadata": {},
     "output_type": "execute_result"
    }
   ],
   "source": [
    "dst_transform, dst_width, dst_height = calculate_default_transform(\n",
    "    src_crs=src_crs,\n",
    "    dst_crs=reproj_crs,\n",
    "    width=src.width,\n",
    "    height=src.height,\n",
    "    left=src_bounds.left,\n",
    "    bottom=src_bounds.bottom,\n",
    "    right=src_bounds.right,\n",
    "    top=src_bounds.top\n",
    ")\n",
    "\n",
    "dst_transform\n",
    "# dst_height"
   ]
  },
  {
   "cell_type": "code",
   "execution_count": 16,
   "id": "f5ea4e42",
   "metadata": {},
   "outputs": [],
   "source": [
    "### 重投影并写出\n",
    "\n",
    "with rio.open(\n",
    "    fp=path_rsimg_reproj,\n",
    "    mode='w',\n",
    "    driver='GTiff',\n",
    "    height=dst_height,\n",
    "    width=dst_width,\n",
    "    count=1,\n",
    "    dtype=data.dtype,\n",
    "    crs=reproj_crs,\n",
    "    transform=dst_transform) as dst:\n",
    "\n",
    "    reproject(\n",
    "        source=data,\n",
    "        src_transform=src_transform,\n",
    "        src_crs=src_crs,\n",
    "        destination=rio.band(dst, 1),\n",
    "        dst_transform=dst_transform,\n",
    "        dst_crs=reproj_crs,\n",
    "        resampling=Resampling.bilinear\n",
    "    )\n",
    "\n",
    "\n"
   ]
  }
 ],
 "metadata": {
  "kernelspec": {
   "display_name": "myenv",
   "language": "python",
   "name": "python3"
  },
  "language_info": {
   "codemirror_mode": {
    "name": "ipython",
    "version": 3
   },
   "file_extension": ".py",
   "mimetype": "text/x-python",
   "name": "python",
   "nbconvert_exporter": "python",
   "pygments_lexer": "ipython3",
   "version": "3.11.11"
  }
 },
 "nbformat": 4,
 "nbformat_minor": 5
}
