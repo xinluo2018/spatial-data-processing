{
 "cells": [
  {
   "cell_type": "markdown",
   "metadata": {},
   "source": [
    "### Pandas"
   ]
  },
  {
   "cell_type": "markdown",
   "metadata": {},
   "source": [
    "数据结构：series和dataframe   \n",
    "创建pandas数据"
   ]
  },
  {
   "cell_type": "code",
   "execution_count": 2,
   "metadata": {},
   "outputs": [],
   "source": [
    "import pandas as pd\n",
    "import numpy as np\n"
   ]
  },
  {
   "cell_type": "code",
   "execution_count": 5,
   "metadata": {},
   "outputs": [
    {
     "data": {
      "text/plain": [
       "pandas.core.series.Series"
      ]
     },
     "execution_count": 5,
     "metadata": {},
     "output_type": "execute_result"
    }
   ],
   "source": [
    "a = pd.Series([1,2,3,4])   ## 创建series数据\n",
    "# print(a)  ## 坐标索引，右边值\n",
    "type(a)\n"
   ]
  },
  {
   "cell_type": "code",
   "execution_count": 9,
   "metadata": {},
   "outputs": [
    {
     "data": {
      "text/html": [
       "<div>\n",
       "<style scoped>\n",
       "    .dataframe tbody tr th:only-of-type {\n",
       "        vertical-align: middle;\n",
       "    }\n",
       "\n",
       "    .dataframe tbody tr th {\n",
       "        vertical-align: top;\n",
       "    }\n",
       "\n",
       "    .dataframe thead th {\n",
       "        text-align: right;\n",
       "    }\n",
       "</style>\n",
       "<table border=\"1\" class=\"dataframe\">\n",
       "  <thead>\n",
       "    <tr style=\"text-align: right;\">\n",
       "      <th></th>\n",
       "      <th>stud1</th>\n",
       "      <th>stud2</th>\n",
       "    </tr>\n",
       "  </thead>\n",
       "  <tbody>\n",
       "    <tr>\n",
       "      <th>math</th>\n",
       "      <td>80</td>\n",
       "      <td>90</td>\n",
       "    </tr>\n",
       "    <tr>\n",
       "      <th>geography</th>\n",
       "      <td>70</td>\n",
       "      <td>89</td>\n",
       "    </tr>\n",
       "    <tr>\n",
       "      <th>english</th>\n",
       "      <td>68</td>\n",
       "      <td>77</td>\n",
       "    </tr>\n",
       "  </tbody>\n",
       "</table>\n",
       "</div>"
      ],
      "text/plain": [
       "           stud1  stud2\n",
       "math          80     90\n",
       "geography     70     89\n",
       "english       68     77"
      ]
     },
     "execution_count": 9,
     "metadata": {},
     "output_type": "execute_result"
    }
   ],
   "source": [
    "courses = ['math', 'geography', 'english']\n",
    "studs = ['stud1', 'stud2']\n",
    "scores = np.array([[80,90],\n",
    "                   [70,89],\n",
    "                   [68,77]]) \n",
    "a = pd.DataFrame(scores, index=courses, columns=studs)\n",
    "# a = pd.DataFrame(scores, index=courses)\n",
    "# print(a)\n",
    "a"
   ]
  },
  {
   "cell_type": "markdown",
   "metadata": {},
   "source": [
    "索引"
   ]
  },
  {
   "cell_type": "code",
   "execution_count": 17,
   "metadata": {},
   "outputs": [
    {
     "name": "stdout",
     "output_type": "stream",
     "text": [
      "80\n"
     ]
    }
   ],
   "source": [
    "# a['stud1']      ## 列标签索引\n",
    "# a.loc[:, 'stud1']  ## 行标签索引\n",
    "print(a.iloc[0,0])      ## 利用位置索引\n"
   ]
  },
  {
   "cell_type": "code",
   "execution_count": null,
   "metadata": {},
   "outputs": [
    {
     "name": "stdout",
     "output_type": "stream",
     "text": [
      "[[80 90]\n",
      " [70 89]\n",
      " [68 77]]\n"
     ]
    }
   ],
   "source": [
    "# a.index\n",
    "# a.columns\n",
    "# print(a.values)\n"
   ]
  },
  {
   "cell_type": "markdown",
   "metadata": {},
   "source": [
    "DataFrame添加删除数据"
   ]
  },
  {
   "cell_type": "code",
   "execution_count": 25,
   "metadata": {},
   "outputs": [
    {
     "name": "stdout",
     "output_type": "stream",
     "text": [
      "           stud1  stud2\n",
      "math        80.0   90.0\n",
      "geography   70.0   89.0\n",
      "physics     67.0   77.0\n"
     ]
    }
   ],
   "source": [
    "stud3 = pd.Series([76,87,86], index=['math', 'geography', 'english'])\n",
    "# stud3\n",
    "# a.loc[:, 'stud3'] = stud3  ## 添加列\n",
    "# a\n",
    "a.loc['physics',:] = [67, 77, 87]   ## 添加行\n",
    "# a\n",
    "b = a.drop(['stud3'],  axis=1)   ## 删除列\n",
    "c = b.drop(['english'], axis=0)   ## 删除行\n",
    "print(c)\n"
   ]
  },
  {
   "cell_type": "markdown",
   "metadata": {},
   "source": [
    "处理丢失的数据"
   ]
  },
  {
   "cell_type": "code",
   "execution_count": 27,
   "metadata": {},
   "outputs": [
    {
     "name": "stdout",
     "output_type": "stream",
     "text": [
      "           stud1  stud2\n",
      "math        80.0    0.0\n",
      "geography   70.0   89.0\n",
      "physics      0.0   77.0\n"
     ]
    }
   ],
   "source": [
    "c.iloc[0,1] = np.nan  ## 位置索引\n",
    "c.iloc[2,0] = np.nan\n",
    "c\n",
    "d = c.fillna(value=0)\n",
    "print(d)\n"
   ]
  },
  {
   "cell_type": "code",
   "execution_count": 29,
   "metadata": {},
   "outputs": [
    {
     "name": "stdout",
     "output_type": "stream",
     "text": [
      "  Unnamed: 0  stud1  stud2\n",
      "0       math   80.0    0.0\n",
      "1  geography   70.0   89.0\n",
      "2    physics    0.0   77.0\n"
     ]
    }
   ],
   "source": [
    "# d.to_csv('student_scores.csv')\n",
    "e = pd.read_csv('student_scores.csv')\n",
    "print(e)\n"
   ]
  },
  {
   "cell_type": "markdown",
   "metadata": {},
   "source": [
    "数据合并"
   ]
  },
  {
   "cell_type": "code",
   "execution_count": 34,
   "metadata": {},
   "outputs": [
    {
     "name": "stdout",
     "output_type": "stream",
     "text": [
      "           stud1  stud2\n",
      "math        80.0    NaN\n",
      "geography   70.0   89.0\n",
      "physics      NaN   77.0\n",
      "           stud1  stud2\n",
      "math        80.0    0.0\n",
      "geography   70.0   89.0\n",
      "physics      0.0   77.0\n",
      "           stud1  stud2  stud1  stud2\n",
      "math        80.0    NaN   80.0    0.0\n",
      "geography   70.0   89.0   70.0   89.0\n",
      "physics      NaN   77.0    0.0   77.0\n"
     ]
    }
   ],
   "source": [
    "print(c)\n",
    "print(d)\n",
    "# e = pd.concat([c,d], axis=0)\n",
    "e = pd.concat([c,d], axis=1)\n",
    "print(e)\n"
   ]
  },
  {
   "cell_type": "markdown",
   "metadata": {},
   "source": [
    "数据可视化"
   ]
  },
  {
   "cell_type": "code",
   "execution_count": 40,
   "metadata": {},
   "outputs": [
    {
     "name": "stdout",
     "output_type": "stream",
     "text": [
      "           stud1  stud2  stud3\n",
      "math        80.0   90.0   76.0\n",
      "geography   70.0   89.0   87.0\n",
      "english     68.0   77.0   86.0\n",
      "physics     67.0   77.0   87.0\n"
     ]
    },
    {
     "data": {
      "text/plain": [
       "<Axes: >"
      ]
     },
     "execution_count": 40,
     "metadata": {},
     "output_type": "execute_result"
    },
    {
     "data": {
      "image/png": "[encoded data removed]",
      "text/plain": [
       "<Figure size 640x480 with 1 Axes>"
      ]
     },
     "metadata": {},
     "output_type": "display_data"
    }
   ],
   "source": [
    "print(a)\n",
    "# a.plot()\n",
    "a.plot.bar()\n",
    "# a.plot.scatter(x='stud1', y='stud2', color='red')\n"
   ]
  },
  {
   "cell_type": "markdown",
   "metadata": {},
   "source": [
    "练习：利用pandas读入及可视化选课同学家乡位置\n"
   ]
  },
  {
   "cell_type": "code",
   "execution_count": null,
   "metadata": {},
   "outputs": [],
   "source": [
    "\n",
    "\n"
   ]
  }
 ],
 "metadata": {
  "kernelspec": {
   "display_name": "myenv",
   "language": "python",
   "name": "python3"
  },
  "language_info": {
   "codemirror_mode": {
    "name": "ipython",
    "version": 3
   },
   "file_extension": ".py",
   "mimetype": "text/x-python",
   "name": "python",
   "nbconvert_exporter": "python",
   "pygments_lexer": "ipython3",
   "version": "3.11.11"
  }
 },
 "nbformat": 4,
 "nbformat_minor": 2
}
