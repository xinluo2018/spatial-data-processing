{
 "cells": [
  {
   "cell_type": "markdown",
   "metadata": {},
   "source": [
    "#### python常用内置函数复习"
   ]
  },
  {
   "cell_type": "code",
   "execution_count": null,
   "metadata": {},
   "outputs": [
    {
     "name": "stdout",
     "output_type": "stream",
     "text": [
      "0 0\n",
      "1 2\n",
      "2 4\n",
      "3 6\n",
      "4 8\n"
     ]
    }
   ],
   "source": [
    "# print('abc')\n",
    "# print(len([1,2,3]))\n",
    "# for value in [0,2,4,6,8]:\n",
    "#   print(value)\n",
    "\n",
    "# for i, value in enumerate([0,2,4,6,8]):\n",
    "#   print(i, value)\n"
   ]
  },
  {
   "cell_type": "code",
   "execution_count": null,
   "metadata": {},
   "outputs": [
    {
     "name": "stdout",
     "output_type": "stream",
     "text": [
      "[2, 3, 5]\n"
     ]
    }
   ],
   "source": [
    "### abs(): 取绝对值\n",
    "# print(abs(-2.3))\n",
    "# ### round(): 四舍五入\n",
    "# print(round(3.5))\n",
    "# ### sum():求和, 参数为可迭代对象，如list\n",
    "# print(sum([4,3]))\n",
    "# ### len():求长度，参数为可迭代对象，如list\n",
    "# print(len([1,2,3]))\n",
    "# ### sorted():排序，参数为可迭代对象\n",
    "# print(sorted([3,2,5]))\n"
   ]
  },
  {
   "cell_type": "markdown",
   "metadata": {},
   "source": [
    "### Python库调用：numpy、pandas、matplotlib"
   ]
  },
  {
   "cell_type": "markdown",
   "metadata": {},
   "source": [
    "numpy"
   ]
  },
  {
   "cell_type": "code",
   "execution_count": 11,
   "metadata": {},
   "outputs": [],
   "source": [
    "import numpy as np ## 导入\n"
   ]
  },
  {
   "cell_type": "markdown",
   "metadata": {},
   "source": [
    "创建数组"
   ]
  },
  {
   "cell_type": "code",
   "execution_count": 18,
   "metadata": {},
   "outputs": [
    {
     "data": {
      "text/plain": [
       "dtype('float32')"
      ]
     },
     "execution_count": 18,
     "metadata": {},
     "output_type": "execute_result"
    }
   ],
   "source": [
    "# a = np.array([1,2,3], dtype=np.int32)  #指定类型\n",
    "a = np.array([1,2,3], dtype=np.float32)  #指定类型\n",
    "# a\n",
    "a.dtype\n"
   ]
  },
  {
   "cell_type": "code",
   "execution_count": null,
   "metadata": {},
   "outputs": [
    {
     "name": "stdout",
     "output_type": "stream",
     "text": [
      "[ 1.          1.47368421  1.94736842  2.42105263  2.89473684  3.36842105\n",
      "  3.84210526  4.31578947  4.78947368  5.26315789  5.73684211  6.21052632\n",
      "  6.68421053  7.15789474  7.63157895  8.10526316  8.57894737  9.05263158\n",
      "  9.52631579 10.        ]\n"
     ]
    }
   ],
   "source": [
    "# ## 创建特定数据\n",
    "# a = np.zeros(shape=(3,4))  ## 创建全是0数组\n",
    "# a = np.ones(shape=(3,4), dtype=np.int32)  ## 创建全是0数组\n",
    "# a = np.arange(10,20,3)  ## 创建连续数组\n",
    "# a = np.linspace(1,10,20)  ## 创建连续数组\n",
    "print(a)\n"
   ]
  },
  {
   "cell_type": "markdown",
   "metadata": {},
   "source": [
    "numpy对象属性: 维数（ndim)，形状（shape），元素个数（size）"
   ]
  },
  {
   "cell_type": "code",
   "execution_count": 26,
   "metadata": {},
   "outputs": [
    {
     "name": "stdout",
     "output_type": "stream",
     "text": [
      "2\n",
      "(2, 3)\n",
      "6\n"
     ]
    }
   ],
   "source": [
    "a = np.array([[1,2,3],\n",
    "              [3,4,5]])\n",
    "print(a.ndim)\n",
    "print(a.shape)\n",
    "print(a.size)\n"
   ]
  },
  {
   "cell_type": "markdown",
   "metadata": {},
   "source": [
    "基本运算-1"
   ]
  },
  {
   "cell_type": "code",
   "execution_count": 33,
   "metadata": {},
   "outputs": [
    {
     "name": "stdout",
     "output_type": "stream",
     "text": [
      "[   1    8   81 1024]\n"
     ]
    }
   ],
   "source": [
    "# ## 基本运算(一维)\n",
    "a = np.array([1,2,3,4])\n",
    "b = np.array([2,3,4,5])\n",
    "# c = a+b\n",
    "# c = a-b\n",
    "# c = a*b\n",
    "c = a**b\n",
    "print(c)\n"
   ]
  },
  {
   "cell_type": "code",
   "execution_count": 36,
   "metadata": {},
   "outputs": [
    {
     "name": "stdout",
     "output_type": "stream",
     "text": [
      "431.5532991416008\n"
     ]
    }
   ],
   "source": [
    "# ## 简单统计:平均值、最大值、最小值、求和、标准差。\n",
    "d = np.mean(c)\n",
    "d = np.max(c)\n",
    "d = np.min(c)\n",
    "d = np.sum(c)\n",
    "d = np.std(c)\n",
    "print(d)"
   ]
  },
  {
   "cell_type": "code",
   "execution_count": 38,
   "metadata": {},
   "outputs": [
    {
     "name": "stdout",
     "output_type": "stream",
     "text": [
      "[[11 14]\n",
      " [18 23]]\n"
     ]
    }
   ],
   "source": [
    "## 基本运算(二维)\n",
    "a = np.array([[1,2],\n",
    "              [2,3]])\n",
    "b = np.array([[3,4],\n",
    "              [4,5]])\n",
    "c = a@b  ## 矩阵乘\n",
    "# c = a*b  ## 点乘\n",
    "print(c)"
   ]
  },
  {
   "cell_type": "code",
   "execution_count": null,
   "metadata": {},
   "outputs": [
    {
     "name": "stdout",
     "output_type": "stream",
     "text": [
      "[14.5 18.5]\n"
     ]
    }
   ],
   "source": [
    "## 简单统计(二维):平均值、最大值、最小值、求和、标准差\n",
    "d = np.mean(c)\n",
    "d = np.mean(c, axis=0)  ## 行维度上取平均\n",
    "print(d)"
   ]
  },
  {
   "cell_type": "markdown",
   "metadata": {},
   "source": [
    "索引"
   ]
  },
  {
   "cell_type": "code",
   "execution_count": 42,
   "metadata": {},
   "outputs": [
    {
     "name": "stdout",
     "output_type": "stream",
     "text": [
      "[[1 2 3]\n",
      " [4 5 6]\n",
      " [7 8 9]]\n"
     ]
    },
    {
     "data": {
      "text/plain": [
       "2"
      ]
     },
     "execution_count": 42,
     "metadata": {},
     "output_type": "execute_result"
    }
   ],
   "source": [
    "a = np.arange(1,10).reshape(3,3)\n",
    "print(a)\n",
    "a[0, 1]\n"
   ]
  },
  {
   "cell_type": "markdown",
   "metadata": {},
   "source": [
    "合并"
   ]
  },
  {
   "cell_type": "code",
   "execution_count": 46,
   "metadata": {},
   "outputs": [
    {
     "name": "stdout",
     "output_type": "stream",
     "text": [
      "[[1 2 3]\n",
      " [4 5 6]]\n"
     ]
    }
   ],
   "source": [
    "# ## 一维\n",
    "a = np.array([1,2,3])\n",
    "# print(a)\n",
    "b = np.array([4,5,6])\n",
    "# c = np.hstack((a,b))\n",
    "c = np.vstack((a,b))\n",
    "print(c)"
   ]
  },
  {
   "cell_type": "code",
   "execution_count": 57,
   "metadata": {},
   "outputs": [
    {
     "name": "stdout",
     "output_type": "stream",
     "text": [
      "[[1 2 3]\n",
      " [4 5 6]]\n"
     ]
    }
   ],
   "source": [
    "a = np.array([1,2,3]).reshape(1,3)\n",
    "b = np.array([4,5,6]).reshape(1,3)\n",
    "# a\n",
    "c = np.concatenate((a,b), axis=0)\n",
    "print(c)\n"
   ]
  },
  {
   "cell_type": "markdown",
   "metadata": {},
   "source": [
    "赋值与浅复制"
   ]
  },
  {
   "cell_type": "code",
   "execution_count": 63,
   "metadata": {},
   "outputs": [
    {
     "name": "stdout",
     "output_type": "stream",
     "text": [
      "[11  2  3] [11  2  3]\n",
      "[22  2  3] [22  2  3]\n"
     ]
    }
   ],
   "source": [
    "# ### 赋值\n",
    "a = np.array([1,2,3])\n",
    "b = a    ## 新旧变量指向同一内存，不是值的复制。\n",
    "# print(id(a), id(b))\n",
    "# print(a, b)\n",
    "a[0] = 11\n",
    "print(a, b)\n",
    "b[0] = 22\n",
    "print(a, b)\n"
   ]
  },
  {
   "cell_type": "code",
   "execution_count": 69,
   "metadata": {},
   "outputs": [
    {
     "name": "stdout",
     "output_type": "stream",
     "text": [
      "1497836469776 1497836469968\n",
      "[1 2 3] [1 2 3]\n",
      "[11  2  3] [22  2  3]\n"
     ]
    }
   ],
   "source": [
    "# ### 复制(浅复制)\n",
    "a = np.array([1,2,3])\n",
    "b = a.copy()    ## 复制a地址所指向的数据，b变量指向的是复制数据的新地址。\n",
    "print(id(a), id(b))\n",
    "print(a, b)\n",
    "a[0] = 11\n",
    "# print(a, b)\n",
    "b[0] = 22\n",
    "print(a, b)\n"
   ]
  }
 ],
 "metadata": {
  "kernelspec": {
   "display_name": "myenv",
   "language": "python",
   "name": "python3"
  },
  "language_info": {
   "codemirror_mode": {
    "name": "ipython",
    "version": 3
   },
   "file_extension": ".py",
   "mimetype": "text/x-python",
   "name": "python",
   "nbconvert_exporter": "python",
   "pygments_lexer": "ipython3",
   "version": "3.11.11"
  }
 },
 "nbformat": 4,
 "nbformat_minor": 2
}
