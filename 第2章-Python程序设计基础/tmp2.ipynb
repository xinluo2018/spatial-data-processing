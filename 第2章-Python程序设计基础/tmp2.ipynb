{
 "cells": [
  {
   "cell_type": "code",
   "execution_count": 5,
   "metadata": {},
   "outputs": [
    {
     "name": "stdout",
     "output_type": "stream",
     "text": [
      "82978180\n"
     ]
    }
   ],
   "source": [
    "def add(a, b):\n",
    "    c = a+b\n",
    "    # print(c)\n",
    "    return c\n",
    "\n",
    "d = add(a=48888,b=82929292)\n",
    "print(d)\n"
   ]
  },
  {
   "cell_type": "markdown",
   "metadata": {},
   "source": [
    "自动统计出高分段同学的个数"
   ]
  },
  {
   "cell_type": "code",
   "execution_count": null,
   "metadata": {},
   "outputs": [
    {
     "name": "stdout",
     "output_type": "stream",
     "text": [
      "高分同学个数： 3\n"
     ]
    }
   ],
   "source": [
    "scores_math = [79,93,49,76, 87, 98,65,58,90]\n",
    "def num_higher(scores, s_high=90):\n",
    "    num=0\n",
    "    for score in scores:\n",
    "        if score >= s_high:\n",
    "            num=num+1\n",
    "    return num\n",
    "\n",
    "num = num_higher(scores=scores_math, s_high=90)\n",
    "print('高分同学个数：',num)\n"
   ]
  },
  {
   "cell_type": "markdown",
   "metadata": {},
   "source": [
    "类"
   ]
  },
  {
   "cell_type": "code",
   "execution_count": null,
   "metadata": {},
   "outputs": [
    {
     "name": "stdout",
     "output_type": "stream",
     "text": [
      "88.0\n",
      "4\n"
     ]
    }
   ],
   "source": [
    "class Student():\n",
    "    subject = ['math', 'chinese', 'english']\n",
    "    def __init__(self, name, age):\n",
    "        self.name = name\n",
    "        self.age = age\n",
    "    def scores_mean(self, score1, score2):\n",
    "        mean = (score1+score2)/2\n",
    "        return mean\n",
    "    def num_higher(self, scores, s_high=90):\n",
    "        num=0\n",
    "        for score in scores:\n",
    "            if score >= s_high:\n",
    "                num=num+1\n",
    "        return num\n",
    "\n",
    "zhang3 = Student(name='zhang3', age='18')\n",
    "mean = zhang3.scores_mean(score1=97, score2=79)\n",
    "print(mean)\n",
    "scores_zhang = [79,93,49,76, 87, 87, 65,58,90]\n",
    "num_high = zhang3.num_higher(scores=scores_zhang, s_high=80)\n",
    "print(num_high)\n"
   ]
  },
  {
   "cell_type": "code",
   "execution_count": 18,
   "metadata": {},
   "outputs": [
    {
     "name": "stdout",
     "output_type": "stream",
     "text": [
      "88.5\n"
     ]
    }
   ],
   "source": [
    "class StudentPrimary(Student):\n",
    "    def __init__(self, name, age, parent_name):\n",
    "        Student.__init__(self, name, age)\n",
    "        self.parent_name = parent_name\n",
    "\n",
    "li4 = StudentPrimary(name='li4', age=8, parent_name='zhang3')\n",
    "mean = li4.scores_mean(score1=79, score2=98)\n",
    "print(mean)\n"
   ]
  },
  {
   "cell_type": "code",
   "execution_count": 22,
   "metadata": {},
   "outputs": [
    {
     "name": "stdout",
     "output_type": "stream",
     "text": [
      "142\n"
     ]
    }
   ],
   "source": [
    "import module_1 as md\n",
    "# from module_1 import add_\n",
    "sum = md.add_(a=97, b=45)\n",
    "print(sum)\n",
    "# scores_zhang = [79,93,49,76, 87, 87, 65,58,90]\n"
   ]
  },
  {
   "cell_type": "code",
   "execution_count": 1,
   "metadata": {},
   "outputs": [
    {
     "name": "stdout",
     "output_type": "stream",
     "text": [
      "this is module_1\n",
      "this is module_2\n"
     ]
    }
   ],
   "source": [
    "# from package_tmp import module_1\n",
    "from package_tmp.module_1 import print_name\n",
    "from package_tmp import module_2\n",
    "print_name()\n",
    "module_2.print_name_()\n"
   ]
  },
  {
   "cell_type": "markdown",
   "metadata": {},
   "source": [
    "python内置函数"
   ]
  },
  {
   "cell_type": "code",
   "execution_count": null,
   "metadata": {},
   "outputs": [
    {
     "name": "stdout",
     "output_type": "stream",
     "text": [
      "0\n",
      "1\n",
      "2\n",
      "3\n",
      "4\n",
      "5\n",
      "6\n",
      "7\n",
      "8\n",
      "9\n"
     ]
    }
   ],
   "source": [
    "# a = 2\n",
    "# print(type(a))\n",
    "# len([1,2,3])\n",
    "for i in range(10):\n",
    "    print(i)\n"
   ]
  },
  {
   "cell_type": "code",
   "execution_count": null,
   "metadata": {},
   "outputs": [
    {
     "data": {
      "text/plain": [
       "8"
      ]
     },
     "execution_count": 39,
     "metadata": {},
     "output_type": "execute_result"
    }
   ],
   "source": [
    "import numpy as np\n",
    "np.random.randint(10) \n"
   ]
  },
  {
   "cell_type": "markdown",
   "metadata": {},
   "source": [
    "实验：随机抽取同学回答问题的小程序"
   ]
  },
  {
   "cell_type": "code",
   "execution_count": 103,
   "metadata": {},
   "outputs": [
    {
     "data": {
      "text/plain": [
       "'向玲仪'"
      ]
     },
     "execution_count": 103,
     "metadata": {},
     "output_type": "execute_result"
    }
   ],
   "source": [
    "from pick import pick \n",
    "pick()\n"
   ]
  }
 ],
 "metadata": {
  "kernelspec": {
   "display_name": "myenv",
   "language": "python",
   "name": "python3"
  },
  "language_info": {
   "codemirror_mode": {
    "name": "ipython",
    "version": 3
   },
   "file_extension": ".py",
   "mimetype": "text/x-python",
   "name": "python",
   "nbconvert_exporter": "python",
   "pygments_lexer": "ipython3",
   "version": "3.11.11"
  }
 },
 "nbformat": 4,
 "nbformat_minor": 2
}
