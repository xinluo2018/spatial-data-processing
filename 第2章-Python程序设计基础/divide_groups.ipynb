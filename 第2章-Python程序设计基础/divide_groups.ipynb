{
 "cells": [
  {
   "cell_type": "markdown",
   "id": "7b735b01",
   "metadata": {},
   "source": [
    "随机分组：\n",
    "1. 4-5人一组\n",
    "2. 男女均衡分配"
   ]
  },
  {
   "cell_type": "code",
   "execution_count": null,
   "id": "12ec1d9f",
   "metadata": {},
   "outputs": [],
   "source": [
    "import pandas as pd\n",
    "from pprint import pprint\n"
   ]
  },
  {
   "cell_type": "code",
   "execution_count": 10,
   "id": "007c198f",
   "metadata": {},
   "outputs": [
    {
     "name": "stdout",
     "output_type": "stream",
     "text": [
      "18\n"
     ]
    },
    {
     "data": {
      "text/html": [
       "<div>\n",
       "<style scoped>\n",
       "    .dataframe tbody tr th:only-of-type {\n",
       "        vertical-align: middle;\n",
       "    }\n",
       "\n",
       "    .dataframe tbody tr th {\n",
       "        vertical-align: top;\n",
       "    }\n",
       "\n",
       "    .dataframe thead th {\n",
       "        text-align: right;\n",
       "    }\n",
       "</style>\n",
       "<table border=\"1\" class=\"dataframe\">\n",
       "  <thead>\n",
       "    <tr style=\"text-align: right;\">\n",
       "      <th></th>\n",
       "      <th>姓名</th>\n",
       "      <th>性别</th>\n",
       "      <th>家乡所在省</th>\n",
       "      <th>家乡所在市</th>\n",
       "      <th>家乡经度</th>\n",
       "      <th>家乡纬度</th>\n",
       "    </tr>\n",
       "  </thead>\n",
       "  <tbody>\n",
       "    <tr>\n",
       "      <th>0</th>\n",
       "      <td>邱楚涵</td>\n",
       "      <td>女</td>\n",
       "      <td>辽宁省</td>\n",
       "      <td>大连市</td>\n",
       "      <td>121.60</td>\n",
       "      <td>38.90</td>\n",
       "    </tr>\n",
       "    <tr>\n",
       "      <th>1</th>\n",
       "      <td>刘莫晗</td>\n",
       "      <td>女</td>\n",
       "      <td>河北省</td>\n",
       "      <td>保定市</td>\n",
       "      <td>115.70</td>\n",
       "      <td>38.50</td>\n",
       "    </tr>\n",
       "    <tr>\n",
       "      <th>2</th>\n",
       "      <td>龚婉盈</td>\n",
       "      <td>女</td>\n",
       "      <td>湖北省</td>\n",
       "      <td>武汉市</td>\n",
       "      <td>113.40</td>\n",
       "      <td>29.50</td>\n",
       "    </tr>\n",
       "    <tr>\n",
       "      <th>3</th>\n",
       "      <td>向玲仪</td>\n",
       "      <td>女</td>\n",
       "      <td>重庆市</td>\n",
       "      <td>渝北区</td>\n",
       "      <td>106.63</td>\n",
       "      <td>29.71</td>\n",
       "    </tr>\n",
       "    <tr>\n",
       "      <th>4</th>\n",
       "      <td>黎浩蓉</td>\n",
       "      <td>女</td>\n",
       "      <td>云南省</td>\n",
       "      <td>曲靖市</td>\n",
       "      <td>104.25</td>\n",
       "      <td>25.67</td>\n",
       "    </tr>\n",
       "  </tbody>\n",
       "</table>\n",
       "</div>"
      ],
      "text/plain": [
       "    姓名 性别 家乡所在省 家乡所在市    家乡经度   家乡纬度\n",
       "0  邱楚涵  女   辽宁省   大连市  121.60  38.90\n",
       "1  刘莫晗  女   河北省   保定市  115.70  38.50\n",
       "2  龚婉盈  女   湖北省   武汉市  113.40  29.50\n",
       "3  向玲仪  女   重庆市   渝北区  106.63  29.71\n",
       "4  黎浩蓉  女   云南省   曲靖市  104.25  25.67"
      ]
     },
     "execution_count": 10,
     "metadata": {},
     "output_type": "execute_result"
    }
   ],
   "source": [
    "path = 'students/students_hometown.csv'\n",
    "stud_pd = pd.read_csv(path)\n",
    "num_stud = len(stud_pd)\n",
    "print(num_stud)\n",
    "stud_pd.head() \n"
   ]
  },
  {
   "cell_type": "code",
   "execution_count": 17,
   "id": "8dc0ad13",
   "metadata": {},
   "outputs": [
    {
     "data": {
      "text/html": [
       "<div>\n",
       "<style scoped>\n",
       "    .dataframe tbody tr th:only-of-type {\n",
       "        vertical-align: middle;\n",
       "    }\n",
       "\n",
       "    .dataframe tbody tr th {\n",
       "        vertical-align: top;\n",
       "    }\n",
       "\n",
       "    .dataframe thead th {\n",
       "        text-align: right;\n",
       "    }\n",
       "</style>\n",
       "<table border=\"1\" class=\"dataframe\">\n",
       "  <thead>\n",
       "    <tr style=\"text-align: right;\">\n",
       "      <th></th>\n",
       "      <th>姓名</th>\n",
       "      <th>性别</th>\n",
       "      <th>家乡所在省</th>\n",
       "      <th>家乡所在市</th>\n",
       "      <th>家乡经度</th>\n",
       "      <th>家乡纬度</th>\n",
       "    </tr>\n",
       "  </thead>\n",
       "  <tbody>\n",
       "    <tr>\n",
       "      <th>0</th>\n",
       "      <td>向玲仪</td>\n",
       "      <td>女</td>\n",
       "      <td>重庆市</td>\n",
       "      <td>渝北区</td>\n",
       "      <td>106.63</td>\n",
       "      <td>29.71</td>\n",
       "    </tr>\n",
       "    <tr>\n",
       "      <th>1</th>\n",
       "      <td>邱柏萍</td>\n",
       "      <td>男</td>\n",
       "      <td>江西省</td>\n",
       "      <td>萍乡市</td>\n",
       "      <td>113.58</td>\n",
       "      <td>28.08</td>\n",
       "    </tr>\n",
       "    <tr>\n",
       "      <th>2</th>\n",
       "      <td>苏蕊</td>\n",
       "      <td>女</td>\n",
       "      <td>四川省</td>\n",
       "      <td>德阳市</td>\n",
       "      <td>104.39</td>\n",
       "      <td>31.12</td>\n",
       "    </tr>\n",
       "    <tr>\n",
       "      <th>3</th>\n",
       "      <td>李瑞涵</td>\n",
       "      <td>女</td>\n",
       "      <td>山东省</td>\n",
       "      <td>淄博市</td>\n",
       "      <td>117.83</td>\n",
       "      <td>36.55</td>\n",
       "    </tr>\n",
       "    <tr>\n",
       "      <th>4</th>\n",
       "      <td>陈鑫然</td>\n",
       "      <td>男</td>\n",
       "      <td>云南省</td>\n",
       "      <td>曲靖市</td>\n",
       "      <td>103.79</td>\n",
       "      <td>25.50</td>\n",
       "    </tr>\n",
       "  </tbody>\n",
       "</table>\n",
       "</div>"
      ],
      "text/plain": [
       "    姓名 性别 家乡所在省 家乡所在市    家乡经度   家乡纬度\n",
       "0  向玲仪  女   重庆市   渝北区  106.63  29.71\n",
       "1  邱柏萍  男   江西省   萍乡市  113.58  28.08\n",
       "2   苏蕊  女   四川省   德阳市  104.39  31.12\n",
       "3  李瑞涵  女   山东省   淄博市  117.83  36.55\n",
       "4  陈鑫然  男   云南省   曲靖市  103.79  25.50"
      ]
     },
     "execution_count": 17,
     "metadata": {},
     "output_type": "execute_result"
    }
   ],
   "source": [
    "stud_pd = stud_pd.sample(n=num_stud).reset_index(drop=True) \n",
    "stud_pd.head()\n"
   ]
  },
  {
   "cell_type": "code",
   "execution_count": 12,
   "id": "52816ef5",
   "metadata": {},
   "outputs": [
    {
     "data": {
      "text/plain": [
       "4"
      ]
     },
     "execution_count": 12,
     "metadata": {},
     "output_type": "execute_result"
    }
   ],
   "source": [
    "num_groups = len(stud_pd) // 4  ## 整除\n",
    "num_groups\n"
   ]
  },
  {
   "cell_type": "code",
   "execution_count": 13,
   "id": "f0da430c",
   "metadata": {},
   "outputs": [
    {
     "data": {
      "text/plain": [
       "12"
      ]
     },
     "execution_count": 13,
     "metadata": {},
     "output_type": "execute_result"
    }
   ],
   "source": [
    "stud_boys = stud_pd[stud_pd['性别'] == '男']\n",
    "stud_girls = stud_pd[stud_pd['性别'] == '女']\n",
    "len(stud_boys)\n",
    "len(stud_girls)\n"
   ]
  },
  {
   "cell_type": "code",
   "execution_count": 14,
   "id": "01fe0b22",
   "metadata": {},
   "outputs": [
    {
     "data": {
      "text/plain": [
       "[[], [], [], []]"
      ]
     },
     "execution_count": 14,
     "metadata": {},
     "output_type": "execute_result"
    }
   ],
   "source": [
    "## 初始化各组学生列表\n",
    "stud_groups = []\n",
    "for i in range(num_groups):\n",
    "    stud_groups.append([])\n",
    "stud_groups\n"
   ]
  },
  {
   "cell_type": "code",
   "execution_count": 15,
   "id": "01267313",
   "metadata": {},
   "outputs": [
    {
     "name": "stdout",
     "output_type": "stream",
     "text": [
      "周庭乐\n",
      "申时航\n",
      "曹匡杰\n",
      "陈鑫然\n",
      "邹廷凯\n",
      "邱柏萍\n",
      "2\n",
      "邱楚涵\n",
      "杨媛圆\n",
      "宋萱宣\n",
      "龚婉盈\n",
      "吴雨阳\n",
      "刘莫晗\n",
      "黎浩蓉\n",
      "孙忠唤\n",
      "苏蕊\n",
      "黄玉缘\n",
      "向玲仪\n",
      "李瑞涵\n"
     ]
    }
   ],
   "source": [
    "i = 0\n",
    "for boy in stud_boys['姓名']:\n",
    "    print(boy)\n",
    "    stud_groups[i].append(boy)\n",
    "    i = i+1\n",
    "    if i>=num_groups: \n",
    "        i = 0\n",
    "print(i)\n",
    "\n",
    "i = 0\n",
    "for girl in stud_girls['姓名']:\n",
    "    print(girl)\n",
    "    stud_groups[i].append(girl)\n",
    "    i = i+1\n",
    "    if i>=num_groups: \n",
    "        i = 0\n"
   ]
  },
  {
   "cell_type": "code",
   "execution_count": null,
   "id": "3c002ea5",
   "metadata": {},
   "outputs": [
    {
     "name": "stdout",
     "output_type": "stream",
     "text": [
      "[['周庭乐', '邹廷凯', '邱楚涵', '吴雨阳', '苏蕊'],\n",
      " ['申时航', '邱柏萍', '杨媛圆', '刘莫晗', '黄玉缘'],\n",
      " ['曹匡杰', '宋萱宣', '黎浩蓉', '向玲仪'],\n",
      " ['陈鑫然', '龚婉盈', '孙忠唤', '李瑞涵']]\n"
     ]
    }
   ],
   "source": [
    "pprint(stud_groups)\n"
   ]
  },
  {
   "cell_type": "code",
   "execution_count": null,
   "id": "532e73b6",
   "metadata": {},
   "outputs": [],
   "source": [
    "\n",
    "\n",
    "\n"
   ]
  }
 ],
 "metadata": {
  "kernelspec": {
   "display_name": "myenv",
   "language": "python",
   "name": "python3"
  },
  "language_info": {
   "codemirror_mode": {
    "name": "ipython",
    "version": 3
   },
   "file_extension": ".py",
   "mimetype": "text/x-python",
   "name": "python",
   "nbconvert_exporter": "python",
   "pygments_lexer": "ipython3",
   "version": "3.11.11"
  }
 },
 "nbformat": 4,
 "nbformat_minor": 5
}
