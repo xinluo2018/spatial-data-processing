{
 "cells": [
  {
   "cell_type": "markdown",
   "metadata": {},
   "source": [
    "#### Python编程基础2"
   ]
  },
  {
   "cell_type": "markdown",
   "metadata": {},
   "source": [
    "1. 函数"
   ]
  },
  {
   "cell_type": "code",
   "execution_count": 2,
   "metadata": {},
   "outputs": [
    {
     "name": "stdout",
     "output_type": "stream",
     "text": [
      "3\n"
     ]
    }
   ],
   "source": [
    "def add(a, b):\n",
    "  print(a+b)\n",
    "add(1,2)\n"
   ]
  },
  {
   "cell_type": "code",
   "execution_count": 3,
   "metadata": {},
   "outputs": [
    {
     "name": "stdout",
     "output_type": "stream",
     "text": [
      "超过给定分数的科目数为： 7\n"
     ]
    }
   ],
   "source": [
    "### 自动统计出超出某分数的科目数。\n",
    "scores=[70,76,84,83,94,91,93,79,81,90]\n",
    "def num_higher(s, s_high=90):\n",
    "  num = 0\n",
    "  for score in s:\n",
    "    # print(score)\n",
    "    if score >= s_high:\n",
    "      num=num+1\n",
    "  return num \n",
    "num = num_higher(s=scores, s_high=80)\n",
    "print('超过给定分数的科目数为：', num)\n"
   ]
  },
  {
   "cell_type": "markdown",
   "metadata": {},
   "source": [
    "2. 类"
   ]
  },
  {
   "cell_type": "code",
   "execution_count": null,
   "metadata": {},
   "outputs": [
    {
     "name": "stdout",
     "output_type": "stream",
     "text": [
      "平均分: 75.0\n"
     ]
    }
   ],
   "source": [
    "### 类的定义\n",
    "class Student():\n",
    "  grade = 2023    ## 类变量\n",
    "  def __init__(self, name, age):\n",
    "    self.name=name    ## 实例变量\n",
    "    self.age = age\n",
    "  def scores_mean(self, score_1, score_2):   ## 类方法\n",
    "    mean = (score_1+score_2)/2\n",
    "    return mean\n",
    "  # def num_higher(self, s, s_high=90):\n",
    "  #   num = 0\n",
    "  #   for score in s:\n",
    "  #     # print(score)\n",
    "  #     if score >= s_high:\n",
    "  #       num=num+1\n",
    "  #   return num \n",
    "\n",
    "### 类的实例\n",
    "zhang3 = Student(name='zhang3', age=18)\n",
    "mean = zhang3.scores_mean(90, 60)\n",
    "print('平均分:', mean)\n",
    "# num_high = zhang3.num_higher(s=scores)\n",
    "# print('高分科目科数：', num_high)\n"
   ]
  },
  {
   "cell_type": "code",
   "execution_count": 8,
   "metadata": {},
   "outputs": [
    {
     "data": {
      "text/plain": [
       "84.0"
      ]
     },
     "execution_count": 8,
     "metadata": {},
     "output_type": "execute_result"
    }
   ],
   "source": [
    "### 类的继承\n",
    "class StudentPrimary(Student):\n",
    "  def __init__(self, name, age, parent_name):\n",
    "    Student.__init__(self, name, age)\n",
    "    self.parent = parent_name\n",
    "\n",
    "li4 = StudentPrimary(name='li4', age=8, parent_name='zhang3')\n",
    "li4.scores_mean(90,78)\n",
    "\n"
   ]
  },
  {
   "cell_type": "markdown",
   "metadata": {},
   "source": [
    "3. 模块/包"
   ]
  },
  {
   "cell_type": "code",
   "execution_count": 11,
   "metadata": {},
   "outputs": [
    {
     "name": "stdout",
     "output_type": "stream",
     "text": [
      "4\n"
     ]
    }
   ],
   "source": [
    "### 模块\n",
    "### Create module.py file. and copy the function of num_higher()\n",
    "import module\n",
    "num_high = module.num_higher_(s=scores, s_high=85)\n",
    "print(num_high)\n"
   ]
  },
  {
   "cell_type": "code",
   "execution_count": null,
   "metadata": {},
   "outputs": [
    {
     "name": "stdout",
     "output_type": "stream",
     "text": [
      "this is module_1\n",
      "this is module_2\n"
     ]
    }
   ],
   "source": [
    "### 包, 在不同.py文件中写能够打印出文件名的程序\n",
    "from package_tmp import module_1\n",
    "from package_tmp import module_2\n",
    "module_1.print_name()\n",
    "module_2.print_name()\n"
   ]
  },
  {
   "cell_type": "code",
   "execution_count": null,
   "metadata": {},
   "outputs": [
    {
     "data": {
      "text/plain": [
       "0"
      ]
     },
     "execution_count": 27,
     "metadata": {},
     "output_type": "execute_result"
    }
   ],
   "source": [
    "## 导入软件包，获取随机数\n",
    "import numpy as np\n",
    "np.random.randint(10)\n"
   ]
  },
  {
   "cell_type": "markdown",
   "metadata": {},
   "source": [
    "4. Python内置函数"
   ]
  },
  {
   "cell_type": "code",
   "execution_count": 28,
   "metadata": {},
   "outputs": [
    {
     "name": "stdout",
     "output_type": "stream",
     "text": [
      "140703147737896\n",
      "<class 'int'>\n",
      "1\n"
     ]
    },
    {
     "data": {
      "text/plain": [
       "3"
      ]
     },
     "execution_count": 28,
     "metadata": {},
     "output_type": "execute_result"
    }
   ],
   "source": [
    "a = 1\n",
    "print(id(a))\n",
    "print(type(a))\n",
    "print(a)\n",
    "len([1,2,3])\n"
   ]
  },
  {
   "cell_type": "code",
   "execution_count": 29,
   "metadata": {},
   "outputs": [
    {
     "name": "stdout",
     "output_type": "stream",
     "text": [
      "5\n",
      "7\n",
      "9\n"
     ]
    }
   ],
   "source": [
    "range(5)  ## 可迭代对象\n",
    "for i in range(5, 10, 2):\n",
    "    print(i)\n"
   ]
  },
  {
   "cell_type": "markdown",
   "metadata": {},
   "source": [
    "#### 实验：随机抽取同学回答问题小程序"
   ]
  },
  {
   "cell_type": "code",
   "execution_count": 48,
   "metadata": {},
   "outputs": [],
   "source": [
    "import pandas as pd\n",
    "import numpy as np"
   ]
  },
  {
   "cell_type": "code",
   "execution_count": 35,
   "metadata": {},
   "outputs": [
    {
     "data": {
      "text/html": [
       "<div>\n",
       "<style scoped>\n",
       "    .dataframe tbody tr th:only-of-type {\n",
       "        vertical-align: middle;\n",
       "    }\n",
       "\n",
       "    .dataframe tbody tr th {\n",
       "        vertical-align: top;\n",
       "    }\n",
       "\n",
       "    .dataframe thead th {\n",
       "        text-align: right;\n",
       "    }\n",
       "</style>\n",
       "<table border=\"1\" class=\"dataframe\">\n",
       "  <thead>\n",
       "    <tr style=\"text-align: right;\">\n",
       "      <th></th>\n",
       "      <th>姓名</th>\n",
       "      <th>性别</th>\n",
       "      <th>家乡所在省</th>\n",
       "      <th>家乡所在市</th>\n",
       "      <th>家乡经度</th>\n",
       "      <th>家乡纬度</th>\n",
       "    </tr>\n",
       "  </thead>\n",
       "  <tbody>\n",
       "    <tr>\n",
       "      <th>0</th>\n",
       "      <td>邱楚涵</td>\n",
       "      <td>女</td>\n",
       "      <td>辽宁省</td>\n",
       "      <td>大连市</td>\n",
       "      <td>121.60</td>\n",
       "      <td>38.90</td>\n",
       "    </tr>\n",
       "    <tr>\n",
       "      <th>1</th>\n",
       "      <td>刘莫晗</td>\n",
       "      <td>女</td>\n",
       "      <td>河北省</td>\n",
       "      <td>保定市</td>\n",
       "      <td>115.70</td>\n",
       "      <td>38.50</td>\n",
       "    </tr>\n",
       "    <tr>\n",
       "      <th>2</th>\n",
       "      <td>龚婉盈</td>\n",
       "      <td>女</td>\n",
       "      <td>湖北省</td>\n",
       "      <td>武汉市</td>\n",
       "      <td>113.40</td>\n",
       "      <td>29.50</td>\n",
       "    </tr>\n",
       "    <tr>\n",
       "      <th>3</th>\n",
       "      <td>向玲仪</td>\n",
       "      <td>女</td>\n",
       "      <td>重庆市</td>\n",
       "      <td>渝北区</td>\n",
       "      <td>106.63</td>\n",
       "      <td>29.71</td>\n",
       "    </tr>\n",
       "    <tr>\n",
       "      <th>4</th>\n",
       "      <td>黎浩蓉</td>\n",
       "      <td>女</td>\n",
       "      <td>云南省</td>\n",
       "      <td>曲靖市</td>\n",
       "      <td>104.25</td>\n",
       "      <td>25.67</td>\n",
       "    </tr>\n",
       "  </tbody>\n",
       "</table>\n",
       "</div>"
      ],
      "text/plain": [
       "    姓名 性别 家乡所在省 家乡所在市    家乡经度   家乡纬度\n",
       "0  邱楚涵  女   辽宁省   大连市  121.60  38.90\n",
       "1  刘莫晗  女   河北省   保定市  115.70  38.50\n",
       "2  龚婉盈  女   湖北省   武汉市  113.40  29.50\n",
       "3  向玲仪  女   重庆市   渝北区  106.63  29.71\n",
       "4  黎浩蓉  女   云南省   曲靖市  104.25  25.67"
      ]
     },
     "execution_count": 35,
     "metadata": {},
     "output_type": "execute_result"
    }
   ],
   "source": [
    "path_stud = 'students/students_hometown.csv'\n",
    "stud_info = pd.read_csv(path_stud)\n",
    "stud_info.head()"
   ]
  },
  {
   "cell_type": "code",
   "execution_count": null,
   "metadata": {},
   "outputs": [
    {
     "data": {
      "text/plain": [
       "'黄玉缘'"
      ]
     },
     "execution_count": 54,
     "metadata": {},
     "output_type": "execute_result"
    }
   ],
   "source": [
    "names = stud_info['姓名']\n",
    "num_stud = len(names)\n",
    "i = np.random.randint(num_stud)\n",
    "names[i]\n"
   ]
  },
  {
   "cell_type": "code",
   "execution_count": null,
   "metadata": {},
   "outputs": [
    {
     "data": {
      "text/plain": [
       "'苏蕊'"
      ]
     },
     "execution_count": 57,
     "metadata": {},
     "output_type": "execute_result"
    }
   ],
   "source": [
    "\n"
   ]
  }
 ],
 "metadata": {
  "kernelspec": {
   "display_name": "myenv",
   "language": "python",
   "name": "python3"
  },
  "language_info": {
   "codemirror_mode": {
    "name": "ipython",
    "version": 3
   },
   "file_extension": ".py",
   "mimetype": "text/x-python",
   "name": "python",
   "nbconvert_exporter": "python",
   "pygments_lexer": "ipython3",
   "version": "3.11.11"
  }
 },
 "nbformat": 4,
 "nbformat_minor": 2
}
