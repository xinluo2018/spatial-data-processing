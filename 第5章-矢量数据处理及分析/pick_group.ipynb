{
 "cells": [
  {
   "cell_type": "code",
   "execution_count": 1,
   "id": "0eb7539d",
   "metadata": {},
   "outputs": [],
   "source": [
    "import pandas as pd\n",
    "import numpy as np\n"
   ]
  },
  {
   "cell_type": "code",
   "execution_count": 2,
   "id": "0a570d9a",
   "metadata": {},
   "outputs": [],
   "source": [
    "groups = [\n",
    "    ['周庭乐', '邹廷凯', '邱楚涵', '吴雨阳', '苏蕊'],\n",
    "    ['申时航', '邱柏萍', '杨媛圆', '刘莫晗', '黄玉缘'],\n",
    "    ['曹匡杰', '宋萱宣', '黎浩蓉', '向玲仪'],\n",
    "    ['陈鑫然', '龚婉盈', '孙忠唤', '李瑞涵']\n",
    "    ]\n"
   ]
  },
  {
   "cell_type": "code",
   "execution_count": 15,
   "id": "2200b297",
   "metadata": {},
   "outputs": [
    {
     "data": {
      "text/plain": [
       "['申时航', '邱柏萍', '杨媛圆', '刘莫晗', '黄玉缘']"
      ]
     },
     "execution_count": 15,
     "metadata": {},
     "output_type": "execute_result"
    }
   ],
   "source": [
    "num_group = len(groups)\n",
    "i_group = np.random.randint(num_group)\n",
    "group = groups[i_group] \n",
    "group\n"
   ]
  },
  {
   "cell_type": "code",
   "execution_count": 31,
   "id": "99553230",
   "metadata": {},
   "outputs": [
    {
     "name": "stdout",
     "output_type": "stream",
     "text": [
      "杨媛圆\n"
     ]
    }
   ],
   "source": [
    "num_stud = len(group)\n",
    "i_stud = np.random.randint(num_stud)\n",
    "print(group[i_stud])\n"
   ]
  }
 ],
 "metadata": {
  "kernelspec": {
   "display_name": "myenv",
   "language": "python",
   "name": "python3"
  },
  "language_info": {
   "codemirror_mode": {
    "name": "ipython",
    "version": 3
   },
   "file_extension": ".py",
   "mimetype": "text/x-python",
   "name": "python",
   "nbconvert_exporter": "python",
   "pygments_lexer": "ipython3",
   "version": "3.11.11"
  }
 },
 "nbformat": 4,
 "nbformat_minor": 5
}
