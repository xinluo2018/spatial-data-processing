{
 "cells": [
  {
   "cell_type": "code",
   "execution_count": 1,
   "id": "0eb7539d",
   "metadata": {},
   "outputs": [],
   "source": [
    "import pandas as pd\n",
    "import numpy as np\n"
   ]
  },
  {
   "cell_type": "code",
   "execution_count": 2,
   "id": "0a570d9a",
   "metadata": {},
   "outputs": [],
   "source": [
    "groups = [\n",
    "    ['申时航','陈鑫然','邱楚涵','苏蕊', '吴雨阳'],\n",
    "    # ['邱柏萍', '曹匡杰', '向玲仪', '龚婉盈','宋萱宣'],\n",
    "    # ['邹廷凯', '刘莫晗', '孙忠唤','杨媛圆'],\n",
    "    # ['周庭乐', '黄玉缘', '李瑞涵', '黎浩蓉']\n",
    "    ]\n"
   ]
  },
  {
   "cell_type": "code",
   "execution_count": 3,
   "id": "2200b297",
   "metadata": {},
   "outputs": [
    {
     "data": {
      "text/plain": [
       "['申时航', '陈鑫然', '邱楚涵', '苏蕊', '吴雨阳']"
      ]
     },
     "execution_count": 3,
     "metadata": {},
     "output_type": "execute_result"
    }
   ],
   "source": [
    "num_group = len(groups)\n",
    "i_group = np.random.randint(num_group)\n",
    "group = groups[i_group] \n",
    "group\n"
   ]
  },
  {
   "cell_type": "code",
   "execution_count": 4,
   "id": "99553230",
   "metadata": {},
   "outputs": [
    {
     "name": "stdout",
     "output_type": "stream",
     "text": [
      "申时航\n"
     ]
    }
   ],
   "source": [
    "num_stud = len(group)\n",
    "i_stud = np.random.randint(num_stud)\n",
    "print(group[i_stud])\n"
   ]
  }
 ],
 "metadata": {
  "kernelspec": {
   "display_name": "myenv",
   "language": "python",
   "name": "python3"
  },
  "language_info": {
   "codemirror_mode": {
    "name": "ipython",
    "version": 3
   },
   "file_extension": ".py",
   "mimetype": "text/x-python",
   "name": "python",
   "nbconvert_exporter": "python",
   "pygments_lexer": "ipython3",
   "version": "3.11.11"
  }
 },
 "nbformat": 4,
 "nbformat_minor": 5
}
